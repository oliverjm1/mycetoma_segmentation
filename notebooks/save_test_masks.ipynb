{
 "cells": [
  {
   "cell_type": "markdown",
   "metadata": {},
   "source": [
    "# Saving Test Mask Predictions"
   ]
  },
  {
   "cell_type": "code",
   "execution_count": 1,
   "metadata": {},
   "outputs": [],
   "source": [
    "import numpy as np\n",
    "import matplotlib.pyplot as plt\n",
    "import glob\n",
    "import os\n",
    "from PIL import Image\n",
    "import sys\n",
    "import torch\n",
    "from torch.utils.data import DataLoader, Dataset\n",
    "from tqdm import tqdm\n",
    "\n",
    "sys.path.append('../src')\n",
    "from utils import return_image, return_image_and_mask, return_mask\n",
    "from UNet2D import UNet2D\n",
    "from UNetMultiTask import UNetMultiTask\n",
    "from datasets_only_segmentation import MycetomaDataset\n",
    "from metrics import batch_dice_coeff, bce_dice_loss, dice_coefficient\n",
    "from postprocessing import threshold_mask, post_process_binary_mask"
   ]
  },
  {
   "cell_type": "code",
   "execution_count": 2,
   "metadata": {},
   "outputs": [],
   "source": [
    "DATA_DIR = '../data'"
   ]
  },
  {
   "cell_type": "code",
   "execution_count": 3,
   "metadata": {},
   "outputs": [
    {
     "name": "stdout",
     "output_type": "stream",
     "text": [
      "Test length: 167\n"
     ]
    }
   ],
   "source": [
    "test_paths = np.array([os.path.relpath(i, DATA_DIR).split('.')[0] for i in glob.glob(f'{DATA_DIR}/test_dataset/*.jpg')])\n",
    "\n",
    "print(f\"Test length: {len(test_paths)}\")"
   ]
  },
  {
   "cell_type": "code",
   "execution_count": 4,
   "metadata": {},
   "outputs": [
    {
     "name": "stdout",
     "output_type": "stream",
     "text": [
      "cpu\n"
     ]
    }
   ],
   "source": [
    "# Set Device\n",
    "device = torch.device('cuda' if torch.cuda.is_available() else 'cpu')\n",
    "print(device)"
   ]
  },
  {
   "cell_type": "code",
   "execution_count": 5,
   "metadata": {},
   "outputs": [],
   "source": [
    "# no transforms\n",
    "test_dataset = MycetomaDataset(test_paths, DATA_DIR, test_flag=True)"
   ]
  },
  {
   "cell_type": "code",
   "execution_count": 6,
   "metadata": {},
   "outputs": [],
   "source": [
    "# Go batch size of one and no shuffling\n",
    "test_loader = DataLoader(test_dataset, batch_size=1, shuffle=False)"
   ]
  },
  {
   "cell_type": "code",
   "execution_count": 10,
   "metadata": {},
   "outputs": [],
   "source": [
    "# Create and load model save\n",
    "model = UNetMultiTask(3, 1, 8)\n",
    "state_dict = torch.load('../multitask_model_saves/train_bs_8_lr_2e-4_lw_0.2_best_model.pth', map_location=torch.device(device))\n",
    "\n",
    "# Sometimes, the model dictionary keys contain 'module.' prefix which we don't want\n",
    "remove_prefix = True\n",
    "\n",
    "if remove_prefix:\n",
    "    remove_prefix = 'module.'\n",
    "    state_dict = {k[len(remove_prefix):] if k.startswith(remove_prefix) else k: v for k, v in state_dict.items()}\n",
    "\n",
    "model.load_state_dict(state_dict)\n",
    "model = model.to(device)\n",
    "\n",
    "model.eval();"
   ]
  },
  {
   "cell_type": "code",
   "execution_count": 11,
   "metadata": {},
   "outputs": [
    {
     "name": "stderr",
     "output_type": "stream",
     "text": [
      "100%|██████████| 167/167 [02:29<00:00,  1.12it/s]\n"
     ]
    }
   ],
   "source": [
    "# Put image through, save logit output and postprocessed mask\n",
    "from tqdm import tqdm\n",
    "\n",
    "save_dir1 = 'best_model_test_postproc/'\n",
    "save_dir1 = os.path.join(DATA_DIR, save_dir1)\n",
    "\n",
    "save_dir2 = 'best_model_test_postproc_jpg/'\n",
    "save_dir2 = os.path.join(DATA_DIR, save_dir2)\n",
    "\n",
    "# Perform loop without computing gradients\n",
    "with torch.no_grad():\n",
    "    for idx, (inputs) in enumerate(tqdm(test_loader)):\n",
    "        \n",
    "        inputs = inputs.to(device)\n",
    "\n",
    "        # Get logits mask prediction\n",
    "        outputs, class_outs = model(inputs)\n",
    "\n",
    "        pred = outputs[0][0].detach().cpu().numpy()\n",
    "\n",
    "        binary_mask = threshold_mask(pred)\n",
    "        postproc_mask = np.clip(post_process_binary_mask(binary_mask, threshold_fraction=0.05), 0, 1)\n",
    "\n",
    "        # Save masks here\n",
    "        # Modify the filename to include the suffix and change the extension\n",
    "        image_path = test_paths[idx] # start with image path\n",
    "        image_path = image_path.split('/', 1)[1] # remove first directory\n",
    "        binary_mask_path = os.path.splitext(os.path.join(save_dir1, image_path))[0] + '_mask.tif'\n",
    "        postproc_mask_path = os.path.splitext(os.path.join(save_dir2, image_path))[0] + '_mask.jpg'\n",
    "\n",
    "        # Create the directory if it does not exist\n",
    "        #os.makedirs(os.path.dirname(logit_mask_path), exist_ok=True)\n",
    "        os.makedirs(os.path.dirname(binary_mask_path), exist_ok=True)\n",
    "        os.makedirs(os.path.dirname(postproc_mask_path), exist_ok=True)\n",
    "\n",
    "        # Save the masks as a TIFF image\n",
    "        binary_mask_image = Image.fromarray(postproc_mask)\n",
    "        binary_mask_image.save(binary_mask_path, format='TIFF')\n",
    "\n",
    "        # Save the post_processed masks as a JPG image\n",
    "        # Scale the mask to 0-255\n",
    "        postproc_mask = postproc_mask * 255\n",
    "\n",
    "        # Convert the numpy array to a PIL Image and save as JPG\n",
    "        #postproc_mask_image = Image.fromarray(postproc_mask)\n",
    "        #postproc_mask_image.save(postproc_mask_path, format='JPEG')\n"
   ]
  },
  {
   "cell_type": "code",
   "execution_count": 12,
   "metadata": {},
   "outputs": [
    {
     "ename": "FileNotFoundError",
     "evalue": "[Errno 2] No such file or directory: '/Users/olivermills/CDT_no_icloud/Challenges/Mycetoma/data/multitask_postproc_test/93R_mask.tif'",
     "output_type": "error",
     "traceback": [
      "\u001b[0;31m---------------------------------------------------------------------------\u001b[0m",
      "\u001b[0;31mFileNotFoundError\u001b[0m                         Traceback (most recent call last)",
      "Cell \u001b[0;32mIn[12], line 12\u001b[0m\n\u001b[1;32m      9\u001b[0m postproc_mask_path \u001b[38;5;241m=\u001b[39m os\u001b[38;5;241m.\u001b[39mpath\u001b[38;5;241m.\u001b[39mjoin(\u001b[38;5;124m'\u001b[39m\u001b[38;5;124mmultitask_postproc_test\u001b[39m\u001b[38;5;124m'\u001b[39m, rel_path)\n\u001b[1;32m     11\u001b[0m \u001b[38;5;66;03m#logit_pred = return_mask(DATA_DIR, logit_mask_path)\u001b[39;00m\n\u001b[0;32m---> 12\u001b[0m postproc_pred \u001b[38;5;241m=\u001b[39m \u001b[43mreturn_mask\u001b[49m\u001b[43m(\u001b[49m\u001b[43mDATA_DIR\u001b[49m\u001b[43m,\u001b[49m\u001b[43m \u001b[49m\u001b[43mpostproc_mask_path\u001b[49m\u001b[43m)\u001b[49m\n\u001b[1;32m     14\u001b[0m \u001b[38;5;66;03m# Plot prediction before and after processing\u001b[39;00m\n\u001b[1;32m     15\u001b[0m fig, ax \u001b[38;5;241m=\u001b[39m plt\u001b[38;5;241m.\u001b[39msubplots(\u001b[38;5;241m2\u001b[39m, \u001b[38;5;241m2\u001b[39m, figsize\u001b[38;5;241m=\u001b[39m(\u001b[38;5;241m8\u001b[39m, \u001b[38;5;241m6\u001b[39m))\n",
      "File \u001b[0;32m~/CDT_no_icloud/Challenges/Mycetoma/notebooks/../src/utils.py:51\u001b[0m, in \u001b[0;36mreturn_mask\u001b[0;34m(data_dir, path)\u001b[0m\n\u001b[1;32m     48\u001b[0m mask_path \u001b[38;5;241m=\u001b[39m os\u001b[38;5;241m.\u001b[39mpath\u001b[38;5;241m.\u001b[39mjoin(data_dir, path \u001b[38;5;241m+\u001b[39m \u001b[38;5;124m'\u001b[39m\u001b[38;5;124m_mask.tif\u001b[39m\u001b[38;5;124m'\u001b[39m)\n\u001b[1;32m     50\u001b[0m \u001b[38;5;66;03m# Load the mask\u001b[39;00m\n\u001b[0;32m---> 51\u001b[0m mask \u001b[38;5;241m=\u001b[39m np\u001b[38;5;241m.\u001b[39masarray(\u001b[43mImage\u001b[49m\u001b[38;5;241;43m.\u001b[39;49m\u001b[43mopen\u001b[49m\u001b[43m(\u001b[49m\u001b[43mmask_path\u001b[49m\u001b[43m)\u001b[49m)\n\u001b[1;32m     53\u001b[0m \u001b[38;5;28;01mreturn\u001b[39;00m mask\n",
      "File \u001b[0;32m~/anaconda3/envs/mycetoma/lib/python3.9/site-packages/PIL/Image.py:3431\u001b[0m, in \u001b[0;36mopen\u001b[0;34m(fp, mode, formats)\u001b[0m\n\u001b[1;32m   3428\u001b[0m     filename \u001b[38;5;241m=\u001b[39m os\u001b[38;5;241m.\u001b[39mpath\u001b[38;5;241m.\u001b[39mrealpath(os\u001b[38;5;241m.\u001b[39mfspath(fp))\n\u001b[1;32m   3430\u001b[0m \u001b[38;5;28;01mif\u001b[39;00m filename:\n\u001b[0;32m-> 3431\u001b[0m     fp \u001b[38;5;241m=\u001b[39m \u001b[43mbuiltins\u001b[49m\u001b[38;5;241;43m.\u001b[39;49m\u001b[43mopen\u001b[49m\u001b[43m(\u001b[49m\u001b[43mfilename\u001b[49m\u001b[43m,\u001b[49m\u001b[43m \u001b[49m\u001b[38;5;124;43m\"\u001b[39;49m\u001b[38;5;124;43mrb\u001b[39;49m\u001b[38;5;124;43m\"\u001b[39;49m\u001b[43m)\u001b[49m\n\u001b[1;32m   3432\u001b[0m     exclusive_fp \u001b[38;5;241m=\u001b[39m \u001b[38;5;28;01mTrue\u001b[39;00m\n\u001b[1;32m   3433\u001b[0m \u001b[38;5;28;01melse\u001b[39;00m:\n",
      "\u001b[0;31mFileNotFoundError\u001b[0m: [Errno 2] No such file or directory: '/Users/olivermills/CDT_no_icloud/Challenges/Mycetoma/data/multitask_postproc_test/93R_mask.tif'"
     ]
    }
   ],
   "source": [
    "# Check a few\n",
    "\n",
    "test_path = test_paths[67]\n",
    "\n",
    "image = return_image(DATA_DIR, test_path)\n",
    "\n",
    "rel_path = test_path.split('/', 1)[1] # remove first directory\n",
    "#logit_mask_path = os.path.join('multitask_validation', rel_path)\n",
    "postproc_mask_path = os.path.join('multitask_postproc_test', rel_path)\n",
    "\n",
    "#logit_pred = return_mask(DATA_DIR, logit_mask_path)\n",
    "postproc_pred = return_mask(DATA_DIR, postproc_mask_path)\n",
    "\n",
    "# Plot prediction before and after processing\n",
    "fig, ax = plt.subplots(2, 2, figsize=(8, 6))\n",
    "ax[0][0].imshow(image)\n",
    "ax[0][0].set_title('Image')\n",
    "ax[0][0].axis('off')\n",
    "\n",
    "#ax[0][1].imshow(gt)\n",
    "#ax[0][1].set_title('GT')\n",
    "#ax[0][1].axis('off')\n",
    "\n",
    "#ax[1][0].imshow(logit_pred)\n",
    "#ax[1][0].set_title('Logit Output')\n",
    "#ax[1][0].axis('off')\n",
    "\n",
    "ax[0][1].imshow(postproc_pred)\n",
    "ax[0][1].set_title('Post-processed')\n",
    "ax[0][1].axis('off')\n",
    "\n",
    "plt.show()"
   ]
  },
  {
   "cell_type": "code",
   "execution_count": null,
   "metadata": {},
   "outputs": [],
   "source": []
  }
 ],
 "metadata": {
  "kernelspec": {
   "display_name": "mycetoma",
   "language": "python",
   "name": "python3"
  },
  "language_info": {
   "codemirror_mode": {
    "name": "ipython",
    "version": 3
   },
   "file_extension": ".py",
   "mimetype": "text/x-python",
   "name": "python",
   "nbconvert_exporter": "python",
   "pygments_lexer": "ipython3",
   "version": "3.9.19"
  }
 },
 "nbformat": 4,
 "nbformat_minor": 2
}
