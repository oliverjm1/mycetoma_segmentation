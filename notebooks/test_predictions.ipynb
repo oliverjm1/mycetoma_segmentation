{
 "cells": [
  {
   "cell_type": "markdown",
   "metadata": {},
   "source": [
    "# Looking at mask predictions\n",
    "\n",
    "Running validation data through saved model to look at masks"
   ]
  },
  {
   "cell_type": "code",
   "execution_count": null,
   "metadata": {},
   "outputs": [],
   "source": [
    "import numpy as np\n",
    "import matplotlib.pyplot as plt\n",
    "import glob\n",
    "import os\n",
    "import sys\n",
    "import torch\n",
    "from torch.utils.data import DataLoader, Dataset\n",
    "from tqdm import tqdm\n",
    "\n",
    "sys.path.append('../src')\n",
    "from UNet2D import UNet2D\n",
    "from UNetMultiTask import UNetMultiTask\n",
    "from datasets_only_segmentation import MycetomaDataset\n",
    "from metrics import batch_dice_coeff, bce_dice_loss, dice_coefficient\n",
    "from postprocessing import threshold_mask, post_process_binary_mask"
   ]
  },
  {
   "cell_type": "code",
   "execution_count": null,
   "metadata": {},
   "outputs": [],
   "source": [
    "DATA_DIR = '../data'"
   ]
  },
  {
   "cell_type": "code",
   "execution_count": null,
   "metadata": {},
   "outputs": [],
   "source": [
    "# Get test data now\n",
    "test_paths = np.array([os.path.relpath(i, DATA_DIR).split('.')[0] for i in glob.glob(f'{DATA_DIR}/test_dataset/*.jpg')])\n",
    "\n",
    "print(f\"Test length: {len(test_paths)}\")"
   ]
  },
  {
   "cell_type": "code",
   "execution_count": null,
   "metadata": {},
   "outputs": [],
   "source": [
    "# Set Device\n",
    "device = torch.device('cuda' if torch.cuda.is_available() else 'cpu')\n",
    "print(device)"
   ]
  },
  {
   "cell_type": "code",
   "execution_count": null,
   "metadata": {},
   "outputs": [],
   "source": [
    "test_dataset = MycetomaDataset(test_paths, DATA_DIR, test_flag=True)"
   ]
  },
  {
   "cell_type": "code",
   "execution_count": null,
   "metadata": {},
   "outputs": [],
   "source": [
    "test_loader = DataLoader(test_dataset, batch_size=1, shuffle=False)"
   ]
  },
  {
   "cell_type": "code",
   "execution_count": null,
   "metadata": {},
   "outputs": [],
   "source": [
    "# Plot an image and prediction\n",
    "def plot_image(im, pred):\n",
    "\n",
    "    fig, ax = plt.subplots(1, 2, figsize=(10, 5))\n",
    "\n",
    "    ax[0].imshow(im)\n",
    "    ax[0].set_title('Original Image')\n",
    "    ax[0].axis('off')\n",
    "\n",
    "    ax[1].imshow(pred)\n",
    "    ax[1].set_title('prediction')\n",
    "    ax[1].axis('off')\n",
    "\n",
    "    plt.show()"
   ]
  },
  {
   "cell_type": "code",
   "execution_count": null,
   "metadata": {},
   "outputs": [],
   "source": [
    "# Create and load model save\n",
    "model = UNetMultiTask(3, 1, 8)\n",
    "state_dict = torch.load('../model_saves/train_bs_32_lr_5e-4_lw_0.2_best_model.pth', map_location=torch.device(device))\n",
    "\n",
    "# Sometimes, the model dictionary keys contain 'module.' prefix which we don't want\n",
    "remove_prefix = True\n",
    "\n",
    "if remove_prefix:\n",
    "    remove_prefix = 'module.'\n",
    "    state_dict = {k[len(remove_prefix):] if k.startswith(remove_prefix) else k: v for k, v in state_dict.items()}\n",
    "\n",
    "model.load_state_dict(state_dict)\n",
    "model = model.to(device)\n",
    "\n",
    "model.eval();"
   ]
  },
  {
   "cell_type": "code",
   "execution_count": null,
   "metadata": {},
   "outputs": [],
   "source": [
    "# Put validation data through, plotting image, prediction, ground truth each time\n",
    "\n",
    "threshold = 0.5\n",
    "n=0\n",
    "\n",
    "# Perform loop without computing gradients\n",
    "with torch.no_grad():\n",
    "    for idx, (inputs) in enumerate(test_loader):\n",
    "        inputs = inputs.to(device)\n",
    "\n",
    "        outputs, class_out = model(inputs)\n",
    "\n",
    "        im = inputs[0].detach().cpu().permute(1,2,0).numpy()\n",
    "        pred = threshold_mask(outputs[0][0].detach().cpu().numpy())\n",
    "\n",
    "        # Post-process mask\n",
    "        post_proc_mask = np.clip(post_process_binary_mask(pred, threshold_fraction=0.05), 0, 1)\n",
    "\n",
    "        print(\"\\n-------------------------------------------\")\n",
    "        print(f\"Test image {test_paths[n]}\")\n",
    "        # Plot prediction\n",
    "        plot_image(im, pred)\n",
    "\n",
    "        class_prob = class_out.squeeze().item()\n",
    "        class_pred = \"BM\" if class_prob > threshold else \"FM\"\n",
    "\n",
    "        print(f\"Classification prediction: {class_prob} -> {class_pred}\" )\n",
    "\n",
    "        n += 1"
   ]
  },
  {
   "cell_type": "code",
   "execution_count": null,
   "metadata": {},
   "outputs": [],
   "source": []
  }
 ],
 "metadata": {
  "kernelspec": {
   "display_name": "mycetoma",
   "language": "python",
   "name": "python3"
  },
  "language_info": {
   "codemirror_mode": {
    "name": "ipython",
    "version": 3
   },
   "file_extension": ".py",
   "mimetype": "text/x-python",
   "name": "python",
   "nbconvert_exporter": "python",
   "pygments_lexer": "ipython3",
   "version": "3.9.19"
  }
 },
 "nbformat": 4,
 "nbformat_minor": 2
}
